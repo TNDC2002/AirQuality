{
 "cells": [
  {
   "cell_type": "code",
   "execution_count": 1,
   "metadata": {},
   "outputs": [],
   "source": [
    "import pandas as pd\n",
    "import matplotlib.pyplot as plt\n"
   ]
  },
  {
   "cell_type": "code",
   "execution_count": 32,
   "metadata": {},
   "outputs": [],
   "source": [
    "def load_and_plot_csv(csv_path, x_column, y_column, figsize=(10, 6), nrows=1, ncols=1):\n",
    "    try:\n",
    "        # Load CSV data into a DataFrame\n",
    "        df = pd.read_csv(csv_path)\n",
    "\n",
    "        # Display the first few rows of the DataFrame (optional)\n",
    "        print(\"Data Preview:\")\n",
    "        print(df.head())\n",
    "\n",
    "        # Create subplots\n",
    "        fig, ax = plt.subplots(nrows=nrows, ncols=ncols, figsize=figsize)\n",
    "\n",
    "        # Plot the specific columns\n",
    "        if nrows == 1 and ncols == 1:\n",
    "            # Single plot\n",
    "            df.plot(x=x_column, y=y_column, kind='line', title=f'Plot of {y_column} against {x_column}', ax=ax)\n",
    "            ax.set_xlabel(f'{x_column} Axis Label')\n",
    "            ax.set_ylabel(f'{y_column} Axis Label')\n",
    "        else:\n",
    "            # Multiple subplots\n",
    "            for i in range(nrows):\n",
    "                for j in range(ncols):\n",
    "                    subset_df = df.sample(frac=1)  # Sample to get a subset of data\n",
    "                    subset_df.plot(x=x_column, y=y_column, kind='line', title=f'Plot of {y_column} against {x_column}', ax=ax[i, j])\n",
    "                    ax[i, j].set_xlabel(f'{x_column} Axis Label')\n",
    "                    ax[i, j].set_ylabel(f'{y_column} Axis Label')\n",
    "\n",
    "        plt.tight_layout()\n",
    "        plt.show()\n",
    "\n",
    "    except Exception as e:\n",
    "        print(f\"An error occurred: {e}\")"
   ]
  },
  {
   "cell_type": "code",
   "execution_count": 35,
   "metadata": {},
   "outputs": [
    {
     "name": "stdout",
     "output_type": "stream",
     "text": [
      "Data Preview:\n",
      "           Time(UTC+0)          Time(UTC+8)  Temp(°C)  RH(%)  PM2.5(μm/m^3)  \\\n",
      "0  2024/03/12 05:57:51  2024/03/12 13:57:51     34.14  46.69             28   \n",
      "1  2024/03/12 05:57:40  2024/03/12 13:57:40     34.07  46.78             27   \n",
      "2  2024/03/12 05:57:30  2024/03/12 13:57:30     34.12  46.54             27   \n",
      "3  2024/03/12 05:57:20  2024/03/12 13:57:20     34.11  46.79             27   \n",
      "4  2024/03/12 05:57:10  2024/03/12 13:57:10     34.12  46.87             29   \n",
      "\n",
      "   CO2(ppm)  \n",
      "0       474  \n",
      "1       476  \n",
      "2       477  \n",
      "3       477  \n",
      "4       475  \n"
     ]
    }
   ],
   "source": [
    "\n",
    "csv_path = '../data/data(3).csv'\n",
    "x_column_to_plot = 'Time(UTC+0)'  # Check the case and spelling in your CSV file\n",
    "y_column_to_plot = 'PM2.5(μm/m^3)'\n",
    "load_and_plot_csv(csv_path, x_column_to_plot, y_column_to_plot, figsize=(15, 10), nrows=3, ncols=100)"
   ]
  }
 ],
 "metadata": {
  "kernelspec": {
   "display_name": "Python 3",
   "language": "python",
   "name": "python3"
  },
  "language_info": {
   "codemirror_mode": {
    "name": "ipython",
    "version": 3
   },
   "file_extension": ".py",
   "mimetype": "text/x-python",
   "name": "python",
   "nbconvert_exporter": "python",
   "pygments_lexer": "ipython3",
   "version": "3.10.11"
  }
 },
 "nbformat": 4,
 "nbformat_minor": 2
}
